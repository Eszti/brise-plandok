{
 "cells": [
  {
   "cell_type": "markdown",
   "id": "d17019e8-2712-417c-863c-862f8023ffe8",
   "metadata": {},
   "source": [
    "# Create BRISE dataset for POTATO"
   ]
  },
  {
   "cell_type": "code",
   "execution_count": 2,
   "id": "4f4e21a3-0344-4283-907e-2985dcf516ce",
   "metadata": {},
   "outputs": [],
   "source": [
    "from potato.dataset.dataset import Dataset\n",
    "from potato.models.trainer import GraphTrainer"
   ]
  },
  {
   "cell_type": "code",
   "execution_count": 3,
   "id": "462dc2cc-5732-47c9-95b7-5072abd5bdf7",
   "metadata": {},
   "outputs": [],
   "source": [
    "TRAIN_DIR = \"../../../../data/train\""
   ]
  },
  {
   "cell_type": "code",
   "execution_count": 4,
   "id": "b5242882-2b45-4d4f-ac5c-2a7a2a170906",
   "metadata": {},
   "outputs": [],
   "source": [
    "import os\n",
    "import json\n",
    "\n",
    "GOLD_ATTRIBUTES = \"gold_attributes\"\n",
    "GOLD = \"labels_gold\"\n",
    "ANNOTATED_ATTRIBUTES = \"annotated_attributes\"\n",
    "\n",
    "def load_data(dir_path, only_gold=True):\n",
    "    data = []\n",
    "    for filename in os.listdir(dir_path):\n",
    "        with open(os.path.join(dir_path, filename), \"rt\") as f:\n",
    "            doc = json.load(f)\n",
    "            if only_gold and not doc[GOLD]:\n",
    "                continue\n",
    "            for sen in doc[\"sens\"].values():\n",
    "                if doc[GOLD]:\n",
    "                    labels = list(set(sen[GOLD_ATTRIBUTES].keys()))\n",
    "                else:\n",
    "                    labels = list(set(sen[ANNOTATED_ATTRIBUTES].keys()))\n",
    "                data.append({\n",
    "                    \"sen_id\": sen[\"id\"],\n",
    "                    \"text\": sen[\"text\"],\n",
    "                    \"labels\": labels,\n",
    "                })\n",
    "    return data"
   ]
  },
  {
   "cell_type": "code",
   "execution_count": 5,
   "id": "84e81535-d780-4d1c-908e-33d96ab52a5b",
   "metadata": {},
   "outputs": [],
   "source": [
    "NOT = \"NOT\"\n",
    "\n",
    "def get_sentences(data, attribute):\n",
    "    sentences = []\n",
    "    for sen in data:\n",
    "        if attribute in sen[\"labels\"]:\n",
    "            sentences.append((sen[\"text\"], attribute))\n",
    "        else:\n",
    "            sentences.append((sen[\"text\"], NOT))       \n",
    "    return sentences"
   ]
  },
  {
   "cell_type": "code",
   "execution_count": 8,
   "id": "66a92665-0abd-41b2-af1b-9719f697ff66",
   "metadata": {},
   "outputs": [],
   "source": [
    "data = load_data(TRAIN_DIR, only_gold=True)"
   ]
  },
  {
   "cell_type": "code",
   "execution_count": 9,
   "id": "3124cc85-3a75-4560-a4e6-b75aab9342a0",
   "metadata": {},
   "outputs": [
    {
     "data": {
      "text/plain": [
       "1154"
      ]
     },
     "execution_count": 9,
     "metadata": {},
     "output_type": "execute_result"
    }
   ],
   "source": [
    "len(data)"
   ]
  },
  {
   "cell_type": "code",
   "execution_count": 10,
   "id": "18c03647-8a5c-40b2-bc88-56775b64b59d",
   "metadata": {},
   "outputs": [
    {
     "data": {
      "text/plain": [
       "[{'sen_id': '8025_7_0',\n",
       "  'text': 'Bestimmungen ohne Bezeichnung des Geltungsbereichs mit dem Planzeichen BB:',\n",
       "  'labels': ['Planzeichen']},\n",
       " {'sen_id': '8025_8_0',\n",
       "  'text': 'Für das gesamte Plangebiet wird bestimmt: Dächer dürfen die festgesetzte Gebäudehöhe um höchstens 4,5 m überragen.',\n",
       "  'labels': ['GebaeudeHoeheArt',\n",
       "   'PlangebietAllgemein',\n",
       "   'AbschlussDachMaxBezugGebaeude']},\n",
       " {'sen_id': '8025_9_0',\n",
       "  'text': 'Im Bauland/Wohngebiet darf die Bruttogeschoßfläche aller Geschoße, die ganz oder teilweise über dem anschließenden Gelände liegen, insgesamt höchstens 11.500 m² betragen.',\n",
       "  'labels': ['WidmungUndZweckbestimmung', 'Flaechen']},\n",
       " {'sen_id': '8025_10_0',\n",
       "  'text': 'Bestimmungen mit Bezeichnung des Geltungsbereichs mit dem Planzeichen BB:',\n",
       "  'labels': ['Planzeichen']},\n",
       " {'sen_id': '8025_11_0',\n",
       "  'text': 'Für die mit BB1 bezeichneten Grundflächen wird bestimmt: Die Unterbrechung der geschlossenen Bauweise ist zulässig',\n",
       "  'labels': ['Planzeichen', 'UnterbrechungGeschlosseneBauweise']}]"
      ]
     },
     "execution_count": 10,
     "metadata": {},
     "output_type": "execute_result"
    }
   ],
   "source": [
    "data[10:15]"
   ]
  },
  {
   "cell_type": "markdown",
   "id": "871c54a5-bcb9-4732-9004-453d5045519c",
   "metadata": {},
   "source": [
    "## Planzeichen"
   ]
  },
  {
   "cell_type": "code",
   "execution_count": 11,
   "id": "505debd0-e2cf-4074-bf04-dc335d5b4392",
   "metadata": {},
   "outputs": [],
   "source": [
    "sentences = get_sentences(data, \"Planzeichen\")"
   ]
  },
  {
   "cell_type": "code",
   "execution_count": 12,
   "id": "60f2130e-57ac-4713-9a02-79f5fd341c68",
   "metadata": {},
   "outputs": [
    {
     "data": {
      "text/plain": [
       "[('Bestimmungen ohne Bezeichnung des Geltungsbereichs mit dem Planzeichen BB:',\n",
       "  'Planzeichen'),\n",
       " ('Für das gesamte Plangebiet wird bestimmt: Dächer dürfen die festgesetzte Gebäudehöhe um höchstens 4,5 m überragen.',\n",
       "  'NOT'),\n",
       " ('Im Bauland/Wohngebiet darf die Bruttogeschoßfläche aller Geschoße, die ganz oder teilweise über dem anschließenden Gelände liegen, insgesamt höchstens 11.500 m² betragen.',\n",
       "  'NOT'),\n",
       " ('Bestimmungen mit Bezeichnung des Geltungsbereichs mit dem Planzeichen BB:',\n",
       "  'Planzeichen'),\n",
       " ('Für die mit BB1 bezeichneten Grundflächen wird bestimmt: Die Unterbrechung der geschlossenen Bauweise ist zulässig',\n",
       "  'Planzeichen')]"
      ]
     },
     "execution_count": 12,
     "metadata": {},
     "output_type": "execute_result"
    }
   ],
   "source": [
    "sentences[10:15]"
   ]
  },
  {
   "cell_type": "markdown",
   "id": "4707c9ae-c0fb-4a88-85b9-300de7ad118b",
   "metadata": {},
   "source": [
    "### UD"
   ]
  },
  {
   "cell_type": "code",
   "execution_count": 13,
   "id": "e5249976-bc9a-4536-b81e-b38a079dc923",
   "metadata": {},
   "outputs": [],
   "source": [
    "dataset = Dataset(sentences, label_vocab={\"NOT\":0, \"Planzeichen\": 1})"
   ]
  },
  {
   "cell_type": "code",
   "execution_count": 15,
   "id": "fe311b05-19ef-4c1a-85fa-ede71e453137",
   "metadata": {},
   "outputs": [
    {
     "data": {
      "text/html": [
       "<div>\n",
       "<style scoped>\n",
       "    .dataframe tbody tr th:only-of-type {\n",
       "        vertical-align: middle;\n",
       "    }\n",
       "\n",
       "    .dataframe tbody tr th {\n",
       "        vertical-align: top;\n",
       "    }\n",
       "\n",
       "    .dataframe thead th {\n",
       "        text-align: right;\n",
       "    }\n",
       "</style>\n",
       "<table border=\"1\" class=\"dataframe\">\n",
       "  <thead>\n",
       "    <tr style=\"text-align: right;\">\n",
       "      <th></th>\n",
       "      <th>text</th>\n",
       "      <th>label</th>\n",
       "      <th>label_id</th>\n",
       "      <th>graph</th>\n",
       "    </tr>\n",
       "  </thead>\n",
       "  <tbody>\n",
       "    <tr>\n",
       "      <th>0</th>\n",
       "      <td>MAGISTRAT DER STADT WIEN MA 21 Stadtteilplanun...</td>\n",
       "      <td>NOT</td>\n",
       "      <td>0</td>\n",
       "      <td>None</td>\n",
       "    </tr>\n",
       "    <tr>\n",
       "      <th>1</th>\n",
       "      <td>Der Gemeinderat hat in seiner Sitzung am 29. A...</td>\n",
       "      <td>NOT</td>\n",
       "      <td>0</td>\n",
       "      <td>None</td>\n",
       "    </tr>\n",
       "    <tr>\n",
       "      <th>2</th>\n",
       "      <td>Bezirk, Kat. Großjedlersdorf I werden unter An...</td>\n",
       "      <td>NOT</td>\n",
       "      <td>0</td>\n",
       "      <td>None</td>\n",
       "    </tr>\n",
       "    <tr>\n",
       "      <th>3</th>\n",
       "      <td>Die bisherigen Flächenwidmungspläne und Bebauu...</td>\n",
       "      <td>NOT</td>\n",
       "      <td>0</td>\n",
       "      <td>None</td>\n",
       "    </tr>\n",
       "    <tr>\n",
       "      <th>4</th>\n",
       "      <td>Gemäß § 4 und § 5 der BO für Wien sowie § 48 d...</td>\n",
       "      <td>NOT</td>\n",
       "      <td>0</td>\n",
       "      <td>None</td>\n",
       "    </tr>\n",
       "    <tr>\n",
       "      <th>...</th>\n",
       "      <td>...</td>\n",
       "      <td>...</td>\n",
       "      <td>...</td>\n",
       "      <td>...</td>\n",
       "    </tr>\n",
       "    <tr>\n",
       "      <th>1149</th>\n",
       "      <td>Auf den mit G BB2 bezeichneten Flächen ist die...</td>\n",
       "      <td>Planzeichen</td>\n",
       "      <td>1</td>\n",
       "      <td>None</td>\n",
       "    </tr>\n",
       "    <tr>\n",
       "      <th>1150</th>\n",
       "      <td>Innerhalb der mit BB 3 bezeichneten Flächen si...</td>\n",
       "      <td>Planzeichen</td>\n",
       "      <td>1</td>\n",
       "      <td>None</td>\n",
       "    </tr>\n",
       "    <tr>\n",
       "      <th>1151</th>\n",
       "      <td>Die Ausgestaltung hat zumindest durch das Aufs...</td>\n",
       "      <td>NOT</td>\n",
       "      <td>0</td>\n",
       "      <td>None</td>\n",
       "    </tr>\n",
       "    <tr>\n",
       "      <th>1152</th>\n",
       "      <td>Für die mit BB 4 bezeichneten Bereiche ist die...</td>\n",
       "      <td>Planzeichen</td>\n",
       "      <td>1</td>\n",
       "      <td>None</td>\n",
       "    </tr>\n",
       "    <tr>\n",
       "      <th>1153</th>\n",
       "      <td>Der Abteilungsleiter: Dipl.-Ing. Klaus Vatter ...</td>\n",
       "      <td>NOT</td>\n",
       "      <td>0</td>\n",
       "      <td>None</td>\n",
       "    </tr>\n",
       "  </tbody>\n",
       "</table>\n",
       "<p>1154 rows × 4 columns</p>\n",
       "</div>"
      ],
      "text/plain": [
       "                                                   text        label  \\\n",
       "0     MAGISTRAT DER STADT WIEN MA 21 Stadtteilplanun...          NOT   \n",
       "1     Der Gemeinderat hat in seiner Sitzung am 29. A...          NOT   \n",
       "2     Bezirk, Kat. Großjedlersdorf I werden unter An...          NOT   \n",
       "3     Die bisherigen Flächenwidmungspläne und Bebauu...          NOT   \n",
       "4     Gemäß § 4 und § 5 der BO für Wien sowie § 48 d...          NOT   \n",
       "...                                                 ...          ...   \n",
       "1149  Auf den mit G BB2 bezeichneten Flächen ist die...  Planzeichen   \n",
       "1150  Innerhalb der mit BB 3 bezeichneten Flächen si...  Planzeichen   \n",
       "1151  Die Ausgestaltung hat zumindest durch das Aufs...          NOT   \n",
       "1152  Für die mit BB 4 bezeichneten Bereiche ist die...  Planzeichen   \n",
       "1153  Der Abteilungsleiter: Dipl.-Ing. Klaus Vatter ...          NOT   \n",
       "\n",
       "      label_id graph  \n",
       "0            0  None  \n",
       "1            0  None  \n",
       "2            0  None  \n",
       "3            0  None  \n",
       "4            0  None  \n",
       "...        ...   ...  \n",
       "1149         1  None  \n",
       "1150         1  None  \n",
       "1151         0  None  \n",
       "1152         1  None  \n",
       "1153         0  None  \n",
       "\n",
       "[1154 rows x 4 columns]"
      ]
     },
     "execution_count": 15,
     "metadata": {},
     "output_type": "execute_result"
    }
   ],
   "source": [
    "df = dataset.to_dataframe()\n",
    "df"
   ]
  },
  {
   "cell_type": "code",
   "execution_count": 16,
   "id": "f6fc7931-7eb0-43b6-92df-7f5a652eba64",
   "metadata": {},
   "outputs": [
    {
     "name": "stderr",
     "output_type": "stream",
     "text": [
      "2021-11-18 10:48:33 INFO: Loading these models for language: en (English):\n",
      "=========================\n",
      "| Processor | Package   |\n",
      "-------------------------\n",
      "| tokenize  | ewt       |\n",
      "| pos       | ewt       |\n",
      "| lemma     | ewt       |\n",
      "| depparse  | ewt       |\n",
      "| sentiment | sstplus   |\n",
      "| ner       | ontonotes |\n",
      "=========================\n",
      "\n",
      "2021-11-18 10:48:33 INFO: Use device: cpu\n",
      "2021-11-18 10:48:33 INFO: Loading: tokenize\n",
      "2021-11-18 10:48:33 INFO: Loading: pos\n",
      "2021-11-18 10:48:33 INFO: Loading: lemma\n",
      "2021-11-18 10:48:34 INFO: Loading: depparse\n",
      "2021-11-18 10:48:35 INFO: Loading: sentiment\n",
      "2021-11-18 10:48:36 INFO: Loading: ner\n",
      "2021-11-18 10:48:36 INFO: Done loading processors!\n",
      "WARNING:root:creating new NLP cache in en_nlp_cache\n",
      "100%|█████████████████████████████████████████████████████████████| 1154/1154 [05:44<00:00,  3.35it/s]\n"
     ]
    }
   ],
   "source": [
    "dataset.set_graphs(dataset.parse_graphs(graph_format=\"ud\"))"
   ]
  },
  {
   "cell_type": "code",
   "execution_count": 17,
   "id": "fe5febc9-58fe-4e53-b3d8-18dcdc86823e",
   "metadata": {},
   "outputs": [],
   "source": [
    "df = dataset.to_dataframe()"
   ]
  },
  {
   "cell_type": "code",
   "execution_count": 19,
   "id": "b68dd721-c3e8-4751-97bc-c893de1d04d5",
   "metadata": {},
   "outputs": [],
   "source": [
    "import pickle\n",
    "\n",
    "with open(\"planzeichen_gold_ud.pickle\", \"wb\") as f:\n",
    "    pickle.dump(df.graph, f)"
   ]
  },
  {
   "cell_type": "code",
   "execution_count": null,
   "id": "bd56ff2f-6513-4992-9fab-1278f9d5dc87",
   "metadata": {},
   "outputs": [],
   "source": []
  }
 ],
 "metadata": {
  "kernelspec": {
   "display_name": "Python 3 (ipykernel)",
   "language": "python",
   "name": "python3"
  },
  "language_info": {
   "codemirror_mode": {
    "name": "ipython",
    "version": 3
   },
   "file_extension": ".py",
   "mimetype": "text/x-python",
   "name": "python",
   "nbconvert_exporter": "python",
   "pygments_lexer": "ipython3",
   "version": "3.9.6"
  }
 },
 "nbformat": 4,
 "nbformat_minor": 5
}
