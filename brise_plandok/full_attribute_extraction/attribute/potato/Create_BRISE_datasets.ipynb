{
 "cells": [
  {
   "cell_type": "markdown",
   "id": "d17019e8-2712-417c-863c-862f8023ffe8",
   "metadata": {},
   "source": [
    "# Create BRISE dataset for POTATO"
   ]
  },
  {
   "cell_type": "code",
   "execution_count": 2,
   "id": "4f4e21a3-0344-4283-907e-2985dcf516ce",
   "metadata": {},
   "outputs": [],
   "source": [
    "from potato.dataset.dataset import Dataset\n",
    "from potato.models.trainer import GraphTrainer"
   ]
  },
  {
   "cell_type": "code",
   "execution_count": 25,
   "id": "b5242882-2b45-4d4f-ac5c-2a7a2a170906",
   "metadata": {},
   "outputs": [],
   "source": [
    "import os\n",
    "import json\n",
    "\n",
    "GOLD_ATTRIBUTES = \"gold_attributes\"\n",
    "GOLD = \"labels_gold\"\n",
    "ANNOTATED_ATTRIBUTES = \"annotated_attributes\"\n",
    "\n",
    "def load_data(dir_path, only_gold=True):\n",
    "    data = []\n",
    "    for filename in os.listdir(dir_path):\n",
    "        with open(os.path.join(dir_path, filename), \"rt\") as f:\n",
    "            doc = json.load(f)\n",
    "            if only_gold and not doc[GOLD]:\n",
    "                continue\n",
    "            for sen in doc[\"sens\"].values():\n",
    "                if doc[GOLD]:\n",
    "                    labels = list(set(sen[GOLD_ATTRIBUTES].keys()))\n",
    "                else:\n",
    "                    labels = list(set(sen[ANNOTATED_ATTRIBUTES].keys()))\n",
    "                data.append({\n",
    "                    \"sen_id\": sen[\"id\"],\n",
    "                    \"text\": sen[\"text\"],\n",
    "                    \"labels\": labels,\n",
    "                })\n",
    "    return data"
   ]
  },
  {
   "cell_type": "code",
   "execution_count": 26,
   "id": "84e81535-d780-4d1c-908e-33d96ab52a5b",
   "metadata": {},
   "outputs": [],
   "source": [
    "NOT = \"NOT\"\n",
    "\n",
    "def get_sentences(data, attribute):\n",
    "    sentences = []\n",
    "    for sen in data:\n",
    "        if attribute in sen[\"labels\"]:\n",
    "            sentences.append((sen[\"text\"], attribute))\n",
    "        else:\n",
    "            sentences.append((sen[\"text\"], NOT))       \n",
    "    return sentences"
   ]
  },
  {
   "cell_type": "code",
   "execution_count": 63,
   "id": "e565e9d1-58b5-419d-856c-48253ef1b15e",
   "metadata": {},
   "outputs": [],
   "source": [
    "import pickle\n",
    "\n",
    "def get_graphs(dataset, graph_path):\n",
    "    if not os.path.exists(graph_path):\n",
    "        dataset.set_graphs(dataset.parse_graphs(graph_format=\"ud\"))\n",
    "    else:\n",
    "        dataset.load_graphs(graph_path)\n",
    "    df = dataset.to_dataframe()\n",
    "    if not os.path.exists(graph_path):\n",
    "        with open(graph_path, \"wb\") as f:\n",
    "            pickle.dump(df.graph, f)\n",
    "    return df"
   ]
  },
  {
   "cell_type": "markdown",
   "id": "3ca19201-398a-4e95-89ad-3a4381468770",
   "metadata": {},
   "source": [
    "## Load data - only gold"
   ]
  },
  {
   "cell_type": "code",
   "execution_count": 28,
   "id": "319d7265-2de3-4435-b9b8-48f21cdc3182",
   "metadata": {},
   "outputs": [],
   "source": [
    "TRAIN_DIR = \"../../../../data/train\"\n",
    "VAL_DIR = \"../../../../data/valid\"\n",
    "\n",
    "train_data = load_data(TRAIN_DIR, only_gold=True)\n",
    "val_data = load_data(VAL_DIR, only_gold=True)"
   ]
  },
  {
   "cell_type": "code",
   "execution_count": 29,
   "id": "41648e00-ebc2-4748-a999-2408c02d6247",
   "metadata": {},
   "outputs": [
    {
     "data": {
      "text/plain": [
       "1154"
      ]
     },
     "execution_count": 29,
     "metadata": {},
     "output_type": "execute_result"
    }
   ],
   "source": [
    "len(train_data)"
   ]
  },
  {
   "cell_type": "code",
   "execution_count": 32,
   "id": "590caba8-9c02-4da1-8253-c9aba1b1fd90",
   "metadata": {},
   "outputs": [
    {
     "data": {
      "text/plain": [
       "100"
      ]
     },
     "execution_count": 32,
     "metadata": {},
     "output_type": "execute_result"
    }
   ],
   "source": [
    "len(val_data)"
   ]
  },
  {
   "cell_type": "code",
   "execution_count": 33,
   "id": "c2074611-0669-4891-b25e-1f3e4aff07d2",
   "metadata": {},
   "outputs": [
    {
     "data": {
      "text/plain": [
       "[{'sen_id': '8025_7_0',\n",
       "  'text': 'Bestimmungen ohne Bezeichnung des Geltungsbereichs mit dem Planzeichen BB:',\n",
       "  'labels': ['Planzeichen']},\n",
       " {'sen_id': '8025_8_0',\n",
       "  'text': 'Für das gesamte Plangebiet wird bestimmt: Dächer dürfen die festgesetzte Gebäudehöhe um höchstens 4,5 m überragen.',\n",
       "  'labels': ['GebaeudeHoeheArt',\n",
       "   'PlangebietAllgemein',\n",
       "   'AbschlussDachMaxBezugGebaeude']},\n",
       " {'sen_id': '8025_9_0',\n",
       "  'text': 'Im Bauland/Wohngebiet darf die Bruttogeschoßfläche aller Geschoße, die ganz oder teilweise über dem anschließenden Gelände liegen, insgesamt höchstens 11.500 m² betragen.',\n",
       "  'labels': ['WidmungUndZweckbestimmung', 'Flaechen']},\n",
       " {'sen_id': '8025_10_0',\n",
       "  'text': 'Bestimmungen mit Bezeichnung des Geltungsbereichs mit dem Planzeichen BB:',\n",
       "  'labels': ['Planzeichen']},\n",
       " {'sen_id': '8025_11_0',\n",
       "  'text': 'Für die mit BB1 bezeichneten Grundflächen wird bestimmt: Die Unterbrechung der geschlossenen Bauweise ist zulässig',\n",
       "  'labels': ['Planzeichen', 'UnterbrechungGeschlosseneBauweise']}]"
      ]
     },
     "execution_count": 33,
     "metadata": {},
     "output_type": "execute_result"
    }
   ],
   "source": [
    "train_data[10:15]"
   ]
  },
  {
   "cell_type": "code",
   "execution_count": 36,
   "id": "21df6c12-d9fb-4d30-86bc-7c0095ba70c7",
   "metadata": {},
   "outputs": [
    {
     "data": {
      "text/plain": [
       "[{'sen_id': '7080k_2_0',\n",
       "  'text': 'Für die rechtliche Bedeutung der roten Planzeichen ist die beiliegende „Zeichenerklärung für den Flächenwidmungsplan und den Bebauungsplan“ (§§ 4 und 5 BO für Wien) vom 1. Oktober 2001 maßgebend, die einen Bestandteil dieses Beschlusses bildet.',\n",
       "  'labels': []},\n",
       " {'sen_id': '7080k_3_0',\n",
       "  'text': 'Die Bestimmungen 3.1.1 und 3.1.2.',\n",
       "  'labels': []},\n",
       " {'sen_id': '7080k_3_1',\n",
       "  'text': 'des Plandokumentes 7080 haben für das gesamte Plangebiet keine Gültigkeit.',\n",
       "  'labels': []},\n",
       " {'sen_id': '7080k_4_0',\n",
       "  'text': 'Gemäß § 5 (4) der Bauordnung für Wien wird für Teile des Plangebietes mit eigener Kennzeichnung im Plan (BB) bestimmt:',\n",
       "  'labels': []},\n",
       " {'sen_id': '7080k_5_0',\n",
       "  'text': 'Auf den mit BB17 bezeichneten Flächen wird die bauliche Ausnutzbarkeit mit maximal 45 % beschränkt.',\n",
       "  'labels': ['Planzeichen', 'Flaechen']}]"
      ]
     },
     "execution_count": 36,
     "metadata": {},
     "output_type": "execute_result"
    }
   ],
   "source": [
    "val_data[15:20]"
   ]
  },
  {
   "cell_type": "markdown",
   "id": "08144c7f-32b4-4ee2-8eed-2d6c7a0eed78",
   "metadata": {},
   "source": [
    "## Planzeichen - only gold - ud"
   ]
  },
  {
   "cell_type": "code",
   "execution_count": 74,
   "id": "505debd0-e2cf-4074-bf04-dc335d5b4392",
   "metadata": {},
   "outputs": [],
   "source": [
    "t_sentences = get_sentences(train_data, \"Planzeichen\")"
   ]
  },
  {
   "cell_type": "code",
   "execution_count": 75,
   "id": "60f2130e-57ac-4713-9a02-79f5fd341c68",
   "metadata": {},
   "outputs": [
    {
     "data": {
      "text/plain": [
       "[('Bestimmungen ohne Bezeichnung des Geltungsbereichs mit dem Planzeichen BB:',\n",
       "  'Planzeichen'),\n",
       " ('Für das gesamte Plangebiet wird bestimmt: Dächer dürfen die festgesetzte Gebäudehöhe um höchstens 4,5 m überragen.',\n",
       "  'NOT'),\n",
       " ('Im Bauland/Wohngebiet darf die Bruttogeschoßfläche aller Geschoße, die ganz oder teilweise über dem anschließenden Gelände liegen, insgesamt höchstens 11.500 m² betragen.',\n",
       "  'NOT'),\n",
       " ('Bestimmungen mit Bezeichnung des Geltungsbereichs mit dem Planzeichen BB:',\n",
       "  'Planzeichen'),\n",
       " ('Für die mit BB1 bezeichneten Grundflächen wird bestimmt: Die Unterbrechung der geschlossenen Bauweise ist zulässig',\n",
       "  'Planzeichen')]"
      ]
     },
     "execution_count": 75,
     "metadata": {},
     "output_type": "execute_result"
    }
   ],
   "source": [
    "t_sentences[10:15]"
   ]
  },
  {
   "cell_type": "code",
   "execution_count": 77,
   "id": "e5249976-bc9a-4536-b81e-b38a079dc923",
   "metadata": {},
   "outputs": [],
   "source": [
    "t_dataset = Dataset(t_sentences, label_vocab={\"NOT\":0, \"Planzeichen\": 1})"
   ]
  },
  {
   "cell_type": "code",
   "execution_count": 78,
   "id": "f6fc7931-7eb0-43b6-92df-7f5a652eba64",
   "metadata": {},
   "outputs": [],
   "source": [
    "GRAPH_PATH = \"planzeichen_gold_train_ud.pickle\"\n",
    "\n",
    "df_train = get_graphs(t_dataset, GRAPH_PATH)"
   ]
  },
  {
   "cell_type": "code",
   "execution_count": 68,
   "id": "233863c1-866b-417e-b274-b8c07cd97e44",
   "metadata": {},
   "outputs": [
    {
     "data": {
      "text/html": [
       "<div>\n",
       "<style scoped>\n",
       "    .dataframe tbody tr th:only-of-type {\n",
       "        vertical-align: middle;\n",
       "    }\n",
       "\n",
       "    .dataframe tbody tr th {\n",
       "        vertical-align: top;\n",
       "    }\n",
       "\n",
       "    .dataframe thead th {\n",
       "        text-align: right;\n",
       "    }\n",
       "</style>\n",
       "<table border=\"1\" class=\"dataframe\">\n",
       "  <thead>\n",
       "    <tr style=\"text-align: right;\">\n",
       "      <th></th>\n",
       "      <th>text</th>\n",
       "      <th>label</th>\n",
       "      <th>label_id</th>\n",
       "      <th>graph</th>\n",
       "    </tr>\n",
       "  </thead>\n",
       "  <tbody>\n",
       "    <tr>\n",
       "      <th>0</th>\n",
       "      <td>MAGISTRAT DER STADT WIEN MA 21 Stadtteilplanun...</td>\n",
       "      <td>NOT</td>\n",
       "      <td>0</td>\n",
       "      <td>(1, 0, 2, 3, 4, 5, 6, 7, 8, 9, 10, 11, 12, 14,...</td>\n",
       "    </tr>\n",
       "    <tr>\n",
       "      <th>1</th>\n",
       "      <td>Der Gemeinderat hat in seiner Sitzung am 29. A...</td>\n",
       "      <td>NOT</td>\n",
       "      <td>0</td>\n",
       "      <td>(1, 3, 2, 0, 4, 5, 6, 7, 8, 9, 10, 11, 12, 13,...</td>\n",
       "    </tr>\n",
       "    <tr>\n",
       "      <th>2</th>\n",
       "      <td>Bezirk, Kat. Großjedlersdorf I werden unter An...</td>\n",
       "      <td>NOT</td>\n",
       "      <td>0</td>\n",
       "      <td>(1, 0, 2, 3, 4, 5, 6, 7, 8, 9, 10, 11, 12, 13,...</td>\n",
       "    </tr>\n",
       "    <tr>\n",
       "      <th>3</th>\n",
       "      <td>Die bisherigen Flächenwidmungspläne und Bebauu...</td>\n",
       "      <td>NOT</td>\n",
       "      <td>0</td>\n",
       "      <td>(1, 0, 2, 3, 4, 5, 6, 7, 8, 9, 13, 10, 11, 12,...</td>\n",
       "    </tr>\n",
       "    <tr>\n",
       "      <th>4</th>\n",
       "      <td>Gemäß § 4 und § 5 der BO für Wien sowie § 48 d...</td>\n",
       "      <td>NOT</td>\n",
       "      <td>0</td>\n",
       "      <td>(1, 0, 2, 3, 4, 5, 6, 7, 8, 9, 10, 11, 12, 13,...</td>\n",
       "    </tr>\n",
       "  </tbody>\n",
       "</table>\n",
       "</div>"
      ],
      "text/plain": [
       "                                                text label  label_id  \\\n",
       "0  MAGISTRAT DER STADT WIEN MA 21 Stadtteilplanun...   NOT         0   \n",
       "1  Der Gemeinderat hat in seiner Sitzung am 29. A...   NOT         0   \n",
       "2  Bezirk, Kat. Großjedlersdorf I werden unter An...   NOT         0   \n",
       "3  Die bisherigen Flächenwidmungspläne und Bebauu...   NOT         0   \n",
       "4  Gemäß § 4 und § 5 der BO für Wien sowie § 48 d...   NOT         0   \n",
       "\n",
       "                                               graph  \n",
       "0  (1, 0, 2, 3, 4, 5, 6, 7, 8, 9, 10, 11, 12, 14,...  \n",
       "1  (1, 3, 2, 0, 4, 5, 6, 7, 8, 9, 10, 11, 12, 13,...  \n",
       "2  (1, 0, 2, 3, 4, 5, 6, 7, 8, 9, 10, 11, 12, 13,...  \n",
       "3  (1, 0, 2, 3, 4, 5, 6, 7, 8, 9, 13, 10, 11, 12,...  \n",
       "4  (1, 0, 2, 3, 4, 5, 6, 7, 8, 9, 10, 11, 12, 13,...  "
      ]
     },
     "execution_count": 68,
     "metadata": {},
     "output_type": "execute_result"
    }
   ],
   "source": [
    "df_train.head()"
   ]
  },
  {
   "cell_type": "code",
   "execution_count": 79,
   "id": "cc681374-decb-4aec-8159-945b729c3bb3",
   "metadata": {},
   "outputs": [],
   "source": [
    "TRAIN_DATASET = \"train_planzeichen_gold_dataset\"\n",
    "\n",
    "df_train.to_pickle(TRAIN_DATASET)"
   ]
  },
  {
   "cell_type": "markdown",
   "id": "3e77adeb-d69f-4a9e-8c19-2e47c2c58029",
   "metadata": {},
   "source": [
    "## Val dataset"
   ]
  },
  {
   "cell_type": "code",
   "execution_count": 80,
   "id": "5deda0a7-29f1-456f-aa43-4604356d9c1e",
   "metadata": {},
   "outputs": [],
   "source": [
    "v_sentences = get_sentences(val_data, \"Planzeichen\")"
   ]
  },
  {
   "cell_type": "code",
   "execution_count": 81,
   "id": "77329953-2979-4864-9275-f7c9d98b5d00",
   "metadata": {},
   "outputs": [
    {
     "data": {
      "text/plain": [
       "[('MAGISTRAT DER STADT WIEN MA 21 B Stadtteilplanung und Flächennutzung Süd-Nordost Plandokument 7080K Abänderung des Flächenwidmungsplanes und des Bebauungsplanes',\n",
       "  'NOT'),\n",
       " ('Der Gemeinderat hat in seiner Sitzung am 01. Dezember 2005, Pr. Zl. 4075/2005–GSV, den folgenden Beschluss gefasst: In Abänderung des Flächenwidmungsplanes und des Bebauungsplanes für das im Antragsplan Nr. 7080K mit der rot strichpunktierten Linie oder den in roter Schrift als „Plangebietsgrenze“ bezeichneten Fluchtlinien umschriebene Gebiet zwischen Hödlgasse, Ziedlergasse, Linienzug 1-2 und Scherbangasse im 23.',\n",
       "  'NOT'),\n",
       " ('Bezirk, Kat. G. Atzgersdorf werden unter Anwendung des § 1 der BO für Wien folgende Bestimmungen getroffen:',\n",
       "  'NOT'),\n",
       " ('Die roten Planzeichen gelten als neu festgesetzt;', 'NOT'),\n",
       " ('die schwarzen Planzeichen behalten ihre Rechtskraft, sofern sie nicht rot überdeckt, durchkreuzt oder durchstrichen sind.',\n",
       "  'NOT')]"
      ]
     },
     "execution_count": 81,
     "metadata": {},
     "output_type": "execute_result"
    }
   ],
   "source": [
    "v_sentences[10:15]"
   ]
  },
  {
   "cell_type": "code",
   "execution_count": 82,
   "id": "07ae3839-c6f4-401e-a0a0-4ddd76e05119",
   "metadata": {},
   "outputs": [],
   "source": [
    "v_dataset = Dataset(v_sentences, label_vocab={\"NOT\":0, \"Planzeichen\": 1})"
   ]
  },
  {
   "cell_type": "code",
   "execution_count": 84,
   "id": "87405e23-74bb-41c7-b992-68a1c8b4aba4",
   "metadata": {},
   "outputs": [],
   "source": [
    "GRAPH_PATH = \"planzeichen_gold_valid_ud.pickle\"\n",
    "\n",
    "df_val = get_graphs(v_dataset, GRAPH_PATH)"
   ]
  },
  {
   "cell_type": "code",
   "execution_count": 85,
   "id": "a7f31bbd-1bb3-44e3-ba78-999470688626",
   "metadata": {},
   "outputs": [
    {
     "data": {
      "text/html": [
       "<div>\n",
       "<style scoped>\n",
       "    .dataframe tbody tr th:only-of-type {\n",
       "        vertical-align: middle;\n",
       "    }\n",
       "\n",
       "    .dataframe tbody tr th {\n",
       "        vertical-align: top;\n",
       "    }\n",
       "\n",
       "    .dataframe thead th {\n",
       "        text-align: right;\n",
       "    }\n",
       "</style>\n",
       "<table border=\"1\" class=\"dataframe\">\n",
       "  <thead>\n",
       "    <tr style=\"text-align: right;\">\n",
       "      <th></th>\n",
       "      <th>text</th>\n",
       "      <th>label</th>\n",
       "      <th>label_id</th>\n",
       "      <th>graph</th>\n",
       "    </tr>\n",
       "  </thead>\n",
       "  <tbody>\n",
       "    <tr>\n",
       "      <th>0</th>\n",
       "      <td>MAGISTRAT DER STADT WIEN MA 21 A Stadtteilplan...</td>\n",
       "      <td>NOT</td>\n",
       "      <td>0</td>\n",
       "      <td>(1, 0, 2, 3, 4, 5, 6, 7, 9, 8, 10, 11, 12, 13,...</td>\n",
       "    </tr>\n",
       "    <tr>\n",
       "      <th>1</th>\n",
       "      <td>Der Gemeinderat hat in seiner Sitzung am 23. N...</td>\n",
       "      <td>NOT</td>\n",
       "      <td>0</td>\n",
       "      <td>(1, 3, 2, 0, 4, 5, 6, 7, 8, 9, 10, 11, 13, 12,...</td>\n",
       "    </tr>\n",
       "    <tr>\n",
       "      <th>2</th>\n",
       "      <td>Bezirk, Kat. G. Leopoldstadt werden unter Anwe...</td>\n",
       "      <td>NOT</td>\n",
       "      <td>0</td>\n",
       "      <td>(1, 0, 2, 3, 4, 5, 6, 7, 8, 9, 10, 11, 12, 13,...</td>\n",
       "    </tr>\n",
       "    <tr>\n",
       "      <th>3</th>\n",
       "      <td>Die roten Planzeichen gelten als neu festgesetzt.</td>\n",
       "      <td>NOT</td>\n",
       "      <td>0</td>\n",
       "      <td>(1, 0, 2, 3, 4, 7, 5, 6, 8)</td>\n",
       "    </tr>\n",
       "    <tr>\n",
       "      <th>4</th>\n",
       "      <td>die schwarzen Planzeichen behalten ihre Rechts...</td>\n",
       "      <td>NOT</td>\n",
       "      <td>0</td>\n",
       "      <td>(1, 0, 2, 3, 4, 5, 6, 7, 8, 9, 10, 12, 11, 13,...</td>\n",
       "    </tr>\n",
       "  </tbody>\n",
       "</table>\n",
       "</div>"
      ],
      "text/plain": [
       "                                                text label  label_id  \\\n",
       "0  MAGISTRAT DER STADT WIEN MA 21 A Stadtteilplan...   NOT         0   \n",
       "1  Der Gemeinderat hat in seiner Sitzung am 23. N...   NOT         0   \n",
       "2  Bezirk, Kat. G. Leopoldstadt werden unter Anwe...   NOT         0   \n",
       "3  Die roten Planzeichen gelten als neu festgesetzt.   NOT         0   \n",
       "4  die schwarzen Planzeichen behalten ihre Rechts...   NOT         0   \n",
       "\n",
       "                                               graph  \n",
       "0  (1, 0, 2, 3, 4, 5, 6, 7, 9, 8, 10, 11, 12, 13,...  \n",
       "1  (1, 3, 2, 0, 4, 5, 6, 7, 8, 9, 10, 11, 13, 12,...  \n",
       "2  (1, 0, 2, 3, 4, 5, 6, 7, 8, 9, 10, 11, 12, 13,...  \n",
       "3                        (1, 0, 2, 3, 4, 7, 5, 6, 8)  \n",
       "4  (1, 0, 2, 3, 4, 5, 6, 7, 8, 9, 10, 12, 11, 13,...  "
      ]
     },
     "execution_count": 85,
     "metadata": {},
     "output_type": "execute_result"
    }
   ],
   "source": [
    "df_val.head()"
   ]
  },
  {
   "cell_type": "code",
   "execution_count": 86,
   "id": "509179ed-daa1-4e3d-a832-7c7ff762bcd8",
   "metadata": {},
   "outputs": [],
   "source": [
    "VALID_DATASET = \"valid_planzeichen_gold_dataset\"\n",
    "\n",
    "df_val.to_pickle(VALID_DATASET)"
   ]
  },
  {
   "cell_type": "code",
   "execution_count": null,
   "id": "b939de80-12cd-4c9f-b38f-92b3119daf5d",
   "metadata": {},
   "outputs": [],
   "source": []
  }
 ],
 "metadata": {
  "kernelspec": {
   "display_name": "Python 3 (ipykernel)",
   "language": "python",
   "name": "python3"
  },
  "language_info": {
   "codemirror_mode": {
    "name": "ipython",
    "version": 3
   },
   "file_extension": ".py",
   "mimetype": "text/x-python",
   "name": "python",
   "nbconvert_exporter": "python",
   "pygments_lexer": "ipython3",
   "version": "3.9.6"
  }
 },
 "nbformat": 4,
 "nbformat_minor": 5
}
